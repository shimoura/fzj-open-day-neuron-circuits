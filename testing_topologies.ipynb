{
 "cells": [
  {
   "cell_type": "markdown",
   "metadata": {},
   "source": [
    "# Testing different network topologies in NEST\n",
    "\n",
    "This notebook simulates a network of 8 leaky integrate-and-fire (LIF) neurons with different topologies using the NEST simulator.\n",
    "It includes a function to connect neurons based on specified topologies, such as lattice, small-world, and random."
   ]
  },
  {
   "cell_type": "code",
   "execution_count": 1,
   "metadata": {},
   "outputs": [
    {
     "name": "stdout",
     "output_type": "stream",
     "text": [
      "\n",
      "              -- N E S T --\n",
      "  Copyright (C) 2004 The NEST Initiative\n",
      "\n",
      " Version: 3.8.0\n",
      " Built: Jun 12 2025 22:15:54\n",
      "\n",
      " This program is provided AS IS and comes with\n",
      " NO WARRANTY. See the file LICENSE for details.\n",
      "\n",
      " Problems or suggestions?\n",
      "   Visit https://www.nest-simulator.org\n",
      "\n",
      " Type 'nest.help()' to find out more about NEST.\n",
      "\n"
     ]
    }
   ],
   "source": [
    "# Import the necessary libraries\n",
    "import nest\n",
    "import matplotlib.pyplot as plt\n",
    "import numpy as np\n",
    "\n",
    "# --- 1. Simulation Setup ---\n",
    "# Reset the NEST kernel to ensure a clean simulation environment\n",
    "nest.ResetKernel()"
   ]
  },
  {
   "cell_type": "markdown",
   "metadata": {},
   "source": [
    "## 2. Network Parameters\n",
    "Here we define the size of our network and its grid dimensions."
   ]
  },
  {
   "cell_type": "code",
   "execution_count": 2,
   "metadata": {},
   "outputs": [],
   "source": [
    "# Set the simulation time in milliseconds\n",
    "simulation_time = 300.0  # Adjust this value as needed\n",
    "# Set the random seed for reproducibility\n",
    "nest.SetKernelStatus({\"rng_seed\": 42})\n",
    "\n",
    "# Total number of neurons in the network\n",
    "num_neurons = 8"
   ]
  },
  {
   "cell_type": "code",
   "execution_count": 3,
   "metadata": {},
   "outputs": [],
   "source": [
    "# Neuron parameters\n",
    "neuron_params = {\n",
    "\t\"E_L\": -60.0,  # Resting potential\n",
    "    \"C_m\": 250.0,  # Membrane capacitance\n",
    "    \"tau_m\": 10.0,  # Membrane time constant\n",
    "\t\"t_ref\": 2.0,  # Refractory period\n",
    "    \"V_th\": -55.0,  # Spike threshold\n",
    "\t\"V_reset\": -60.0,  # Reset potential after a spike\n",
    "\t\"I_e\": 0.0,  # No constant input current\n",
    "}"
   ]
  },
  {
   "cell_type": "markdown",
   "metadata": {},
   "source": [
    "## 3. Create Network Nodes\n",
    "We will create the neurons, a spike generator for stimulus, and devices to record activity."
   ]
  },
  {
   "cell_type": "code",
   "execution_count": 4,
   "metadata": {},
   "outputs": [],
   "source": [
    "# Create the 8 neurons using the leaky integrate-and-fire model\n",
    "# with exponential post-synaptic currents.\n",
    "neurons = nest.Create(\"iaf_psc_exp\", num_neurons, params=neuron_params)\n",
    "neurons.V_m = neuron_params[\"E_L\"]  # Initialize membrane potential to resting potential\n",
    "\n",
    "# Create a spike generator to provide input stimulus to the network\n",
    "spike_generator = nest.Create(\"spike_generator\")\n",
    "# Set the spike times for the generator. It will send a single spike at 10.0 ms.\n",
    "spike_generator.spike_times = [10.0]\n",
    "\n",
    "# Create a voltmeter to record the membrane potential of the neurons\n",
    "voltmeter = nest.Create(\"voltmeter\")\n",
    "\n",
    "# Create a spike recorder to capture spike events\n",
    "spike_recorder = nest.Create(\"spike_recorder\")"
   ]
  },
  {
   "cell_type": "markdown",
   "metadata": {},
   "source": [
    "## 4. Connect the Network"
   ]
  },
  {
   "cell_type": "code",
   "execution_count": 5,
   "metadata": {},
   "outputs": [],
   "source": [
    "# # Topology: Modified hub-and-spoke\n",
    "\n",
    "# # Synapse parameters\n",
    "# input_current = 300.0 \t# Input current for the first neuron\n",
    "# input_weight = 0.0  \t# Weight for the synaptic connections\n",
    "# synapse_weight = 1000.0 # Weight for the synaptic connections\n",
    "\n",
    "# nest.Connect(neurons[0], neurons[1], syn_spec={\"weight\": synapse_weight})\n",
    "\n",
    "# nest.Connect(neurons[1], neurons[2, 3, 4], syn_spec={\"weight\": synapse_weight})\n",
    "\n",
    "# nest.Connect(neurons[2], neurons[3, 4, 5], syn_spec={\"weight\": synapse_weight})\n",
    "# nest.Connect(neurons[3], neurons[1, 5], syn_spec={\"weight\": synapse_weight})\n",
    "# nest.Connect(neurons[4], neurons[2, 3, 5], syn_spec={\"weight\": synapse_weight})\n",
    "\n",
    "# nest.Connect(neurons[5], neurons[2, 3, 4], syn_spec={\"weight\": -2.0*synapse_weight})"
   ]
  },
  {
   "cell_type": "code",
   "execution_count": 6,
   "metadata": {},
   "outputs": [],
   "source": [
    "# # Topology: Closed ring\n",
    "\n",
    "# # Synapse parameters\n",
    "# input_current = 0.0 \t# Input current for the first neuron\n",
    "# input_weight = 1000.0  \t# Weight for the synaptic connections\n",
    "# synapse_weight = 1000.0 # Weight for the synaptic connections\n",
    "\n",
    "# # Connect each neuron with next two neurons in the chain\n",
    "# for i in range(8):\n",
    "# \tif i<7:\n",
    "# \t\t# Connect the current neuron to the next two neurons in the chain\n",
    "# \t\tnest.Connect(neurons[i], neurons[i + 1], syn_spec={\"weight\": synapse_weight})\n",
    "\n",
    "# # Connect the last neurons to the first two neurons to complete the chain\n",
    "# nest.Connect(neurons[-1], neurons[0], syn_spec={\"weight\": synapse_weight})"
   ]
  },
  {
   "cell_type": "code",
   "execution_count": 7,
   "metadata": {},
   "outputs": [],
   "source": [
    "# # Topology: Ring with PING modulation\n",
    "\n",
    "# # Synapse parameters\n",
    "# input_current = 200.0 \t# Input current for the first neuron\n",
    "# input_weight = 0.0  \t# Weight for the synaptic connections\n",
    "# excitatory_weight = 1000.0 # Weight for the synaptic connections\n",
    "# inhibitory_weight = -2000.0  # Weight for inhibitory connections\n",
    "\n",
    "# nest.Connect(neurons[0], neurons[1, 2, 3], syn_spec={\"weight\": excitatory_weight})\n",
    "# # nest.Connect(neurons[0], neurons[1], syn_spec={\"weight\": excitatory_weight})\n",
    "\n",
    "# # First ring connection for 3 excitatory neurons\n",
    "# for i in range(1, 4):\n",
    "# \tif i < 3:\n",
    "# \t\tnest.Connect(neurons[i], neurons[i + 1], syn_spec={\"weight\": 0.8*excitatory_weight})\n",
    "# \t\tnest.Connect(neurons[i + 1], neurons[i], syn_spec={\"weight\": 0.8*excitatory_weight})\n",
    "# \telse:\n",
    "# \t\tnest.Connect(neurons[i], neurons[1], syn_spec={\"weight\": 0.8*excitatory_weight})\n",
    "# \t\tnest.Connect(neurons[1], neurons[i], syn_spec={\"weight\": 0.8*excitatory_weight})\n",
    "\n",
    "# # Create PING modulation connections\n",
    "# nest.Connect(neurons[1], neurons[4], syn_spec={\"weight\": 0.8*excitatory_weight})\n",
    "# nest.Connect(neurons[4], neurons[1], syn_spec={\"weight\": inhibitory_weight})\n",
    "\n",
    "# nest.Connect(neurons[2], neurons[5], syn_spec={\"weight\": 0.8*excitatory_weight})\n",
    "# nest.Connect(neurons[5], neurons[2], syn_spec={\"weight\": inhibitory_weight})\n",
    "\n",
    "# nest.Connect(neurons[3], neurons[6], syn_spec={\"weight\": 0.8*excitatory_weight})\n",
    "# nest.Connect(neurons[6], neurons[3], syn_spec={\"weight\": inhibitory_weight})\n",
    "\n",
    "# # Change the E to I weights with different values for the different PING's to desynchronize it"
   ]
  },
  {
   "cell_type": "code",
   "execution_count": 8,
   "metadata": {},
   "outputs": [],
   "source": [
    "# Topology:\n",
    "\n",
    "# Synapse parameters\n",
    "input_current = 300.0 \t# Input current for the first neuron\n",
    "input_weight = 0.0  \t# Weight for the synaptic connections\n",
    "excitatory_weight = 800.0 # Weight for the synaptic connections\n",
    "inhibitory_weight = -1000.0  # Weight for inhibitory connections\n",
    "\n",
    "nest.Connect(neurons[0], neurons[1], syn_spec={\"weight\": excitatory_weight})\n",
    "\n",
    "nest.Connect(neurons[1], neurons[2], syn_spec={\"weight\": excitatory_weight})\n",
    "nest.Connect(neurons[2], neurons[1], syn_spec={\"weight\": excitatory_weight})\n",
    "nest.Connect(neurons[2], neurons[3], syn_spec={\"weight\": excitatory_weight})\n",
    "nest.Connect(neurons[3], neurons[1], syn_spec={\"weight\": inhibitory_weight})\n",
    "\n",
    "nest.Connect(neurons[4], neurons[5], syn_spec={\"weight\": excitatory_weight})\n",
    "nest.Connect(neurons[5], neurons[4], syn_spec={\"weight\": excitatory_weight})\n",
    "nest.Connect(neurons[5], neurons[6], syn_spec={\"weight\": excitatory_weight})\n",
    "nest.Connect(neurons[6], neurons[5], syn_spec={\"weight\": inhibitory_weight})\n",
    "\n",
    "nest.Connect(neurons[2], neurons[5], syn_spec={\"weight\": excitatory_weight})\n",
    "nest.Connect(neurons[5], neurons[2], syn_spec={\"weight\": excitatory_weight})"
   ]
  },
  {
   "cell_type": "markdown",
   "metadata": {},
   "source": [
    "## 5. Connect Devices\n",
    "Now we connect the spike generator and recording devices to the appropriate neurons."
   ]
  },
  {
   "cell_type": "code",
   "execution_count": 9,
   "metadata": {},
   "outputs": [],
   "source": [
    "# Connect the spike generator to the first neuron in the network (index 0).\n",
    "# This will be the entry point for the stimulus.\n",
    "nest.Connect(spike_generator, neurons[0], syn_spec={\"weight\": input_weight})\n",
    "neurons[0].I_e = input_current  # Set a constant input current for the first neuron\n",
    "\n",
    "# Connect the voltmeter to all neurons to record their membrane potential.\n",
    "nest.Connect(voltmeter, neurons)\n",
    "\n",
    "# Connect all neurons to the spike recorder.\n",
    "nest.Connect(neurons, spike_recorder)"
   ]
  },
  {
   "cell_type": "markdown",
   "metadata": {},
   "source": [
    "## 6. Run the Simulation"
   ]
  },
  {
   "cell_type": "code",
   "execution_count": 10,
   "metadata": {},
   "outputs": [
    {
     "name": "stdout",
     "output_type": "stream",
     "text": [
      "\n",
      "Aug 21 16:25:59 NodeManager::prepare_nodes [Info]: \n",
      "    Preparing 11 nodes for simulation.\n",
      "\n",
      "Aug 21 16:25:59 SimulationManager::start_updating_ [Info]: \n",
      "    Number of local nodes: 11\n",
      "    Simulation time (ms): 300\n",
      "    Number of OpenMP threads: 1\n",
      "    Number of MPI processes: 1\n",
      "\n",
      "Aug 21 16:25:59 SimulationManager::run [Info]: \n",
      "    Simulation finished.\n"
     ]
    }
   ],
   "source": [
    "# Simulate the network\n",
    "nest.Simulate(simulation_time)"
   ]
  },
  {
   "cell_type": "markdown",
   "metadata": {},
   "source": [
    "## 7. Visualize the Results\n",
    "Finally, we plot the membrane potentials and spike times recorded by our devices to observe the network's activity."
   ]
  },
  {
   "cell_type": "code",
   "execution_count": 11,
   "metadata": {},
   "outputs": [
    {
     "data": {
      "image/png": "[encoded data removed]",
      "text/plain": [
       "<Figure size 1296x504 with 2 Axes>"
      ]
     },
     "metadata": {
      "needs_background": "light"
     },
     "output_type": "display_data"
    }
   ],
   "source": [
    "# Side-by-side raster plots: original and sorted by first spike time, with neuron IDs\n",
    "events = nest.GetStatus(spike_recorder, \"events\")[0]\n",
    "senders = np.array(events[\"senders\"])\n",
    "times = np.array(events[\"times\"])\n",
    "\n",
    "# --- Prepare sorted neuron order and labels ---\n",
    "first_spike_times = []\n",
    "for n in range(1, num_neurons + 1):\n",
    "    neuron_times = times[senders == n]\n",
    "    if len(neuron_times) > 0:\n",
    "        first_spike_times.append((n, neuron_times[0]))\n",
    "    else:\n",
    "        first_spike_times.append((n, np.nan))\n",
    "first_spike_times_sorted = sorted(first_spike_times, key=lambda x: (np.nan_to_num(x[1], nan=1e9)))\n",
    "sorted_ids = [x[0] for x in first_spike_times_sorted]\n",
    "sorted_labels = [f\"Neuron {nid}\" for i, nid in enumerate(sorted_ids)]\n",
    "\n",
    "fig, axes = plt.subplots(1, 2, figsize=(18, 7), sharex=True)\n",
    "\n",
    "# --- Original raster ---\n",
    "axes[0].set_title('Spike Raster Plot (Neuron ID order)')\n",
    "line_len = 0.8\n",
    "axes[0].vlines(times, senders - line_len / 2, senders + line_len / 2, color='k', linewidth=0.8)\n",
    "axes[0].axvline(10.0, color='r', linestyle='--', label='Stimulus')\n",
    "axes[0].set_xlabel('Time (ms)')\n",
    "axes[0].set_ylabel('Neuron ID')\n",
    "axes[0].set_yticks(range(1, num_neurons + 1))\n",
    "axes[0].set_ylim(0.5, num_neurons + 0.5)\n",
    "axes[0].legend()\n",
    "\n",
    "# --- Sorted raster ---\n",
    "for idx, n in enumerate(sorted_ids):\n",
    "    neuron_times = times[senders == n]\n",
    "    axes[1].vlines(neuron_times, idx + 1 - 0.4, idx + 1 + 0.4, color='k', linewidth=0.8)\n",
    "axes[1].axvline(10.0, color='r', linestyle='--', label='Stimulus')\n",
    "axes[1].set_xlabel('Time (ms)')\n",
    "axes[1].set_ylabel('Neuron (sorted by activation)')\n",
    "axes[1].set_title('Spike Raster Plot (Sorted by First Spike Time)')\n",
    "axes[1].set_yticks(range(1, num_neurons + 1))\n",
    "axes[1].set_yticklabels(sorted_labels)\n",
    "axes[1].set_ylim(0.5, num_neurons + 0.5)\n",
    "axes[1].legend()\n",
    "\n",
    "plt.tight_layout()\n",
    "plt.show()"
   ]
  },
  {
   "cell_type": "code",
   "execution_count": 12,
   "metadata": {},
   "outputs": [],
   "source": [
    "# # Animation with circles for neurons, flashing on spike\n",
    "# from matplotlib.animation import FuncAnimation\n",
    "# from IPython.display import HTML\n",
    "\n",
    "# # Define the grid dimensions for the square lattice (2 rows, 4 columns)\n",
    "# grid_rows = 2\n",
    "# grid_cols = 4\n",
    "\n",
    "# # Get spike times for each neuron\n",
    "# events = nest.GetStatus(spike_recorder, \"events\")[0]\n",
    "# senders = np.array(events[\"senders\"])\n",
    "# times = np.array(events[\"times\"])\n",
    "# spike_times_grid = [[[] for _ in range(grid_cols)] for _ in range(grid_rows)]\n",
    "# for n in range(1, num_neurons + 1):\n",
    "#     neuron_times = times[senders == n]\n",
    "#     row = (n - 1) // grid_cols\n",
    "#     col = (n - 1) % grid_cols\n",
    "#     spike_times_grid[row][col] = neuron_times\n",
    "\n",
    "# # Animation parameters\n",
    "# t_min = 0\n",
    "# t_max = simulation_time\n",
    "# dt = 0.5\n",
    "# frames = int((t_max - t_min) / dt) + 1\n",
    "# time_points = np.linspace(t_min, t_max, frames)\n",
    "\n",
    "# fig, ax = plt.subplots(figsize=(8, 4))\n",
    "# ax.set_xlim(-0.5, grid_cols-0.5)\n",
    "# ax.set_ylim(-0.5, grid_rows-0.5)\n",
    "# ax.set_xticks(range(grid_cols))\n",
    "# ax.set_yticks(range(grid_rows))\n",
    "# ax.set_xlabel('Column')\n",
    "# ax.set_ylabel('Row')\n",
    "# ax.set_title('Spike Propagation Animation (Circles)')\n",
    "\n",
    "# # Draw circles for neurons\n",
    "# circles = []\n",
    "# for i in range(grid_rows):\n",
    "#     for j in range(grid_cols):\n",
    "#         circle = plt.Circle((j, i), 0.3, color='gray', ec='black')\n",
    "#         ax.add_patch(circle)\n",
    "#         circles.append(circle)\n",
    "\n",
    "# def update(frame):\n",
    "#     t = time_points[frame]\n",
    "#     for idx, circle in enumerate(circles):\n",
    "#         i = idx // grid_cols\n",
    "#         j = idx % grid_cols\n",
    "#         # Flash if neuron spikes within this frame\n",
    "#         if any((st > t-dt/2) and (st <= t+dt/2) for st in spike_times_grid[i][j]):\n",
    "#             circle.set_color('yellow')\n",
    "#             circle.set_radius(0.4)\n",
    "#         else:\n",
    "#             circle.set_color('gray')\n",
    "#             circle.set_radius(0.3)\n",
    "#     ax.set_title(f'Spike Propagation at t={t:.1f} ms')\n",
    "#     return circles\n",
    "\n",
    "# ani = FuncAnimation(fig, update, frames=frames, interval=100, blit=True)\n",
    "# plt.close(fig)\n",
    "\n",
    "# HTML(ani.to_jshtml())"
   ]
  }
 ],
 "metadata": {
  "kernelspec": {
   "display_name": "Python 3 (ipykernel)",
   "language": "python",
   "name": "python3"
  },
  "language_info": {
   "codemirror_mode": {
    "name": "ipython",
    "version": 3
   },
   "file_extension": ".py",
   "mimetype": "text/x-python",
   "name": "python",
   "nbconvert_exporter": "python",
   "pygments_lexer": "ipython3",
   "version": "3.10.12"
  }
 },
 "nbformat": 4,
 "nbformat_minor": 4
}
